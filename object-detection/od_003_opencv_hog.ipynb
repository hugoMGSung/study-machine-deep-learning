{
 "cells": [
  {
   "cell_type": "code",
   "execution_count": 1,
   "metadata": {},
   "outputs": [],
   "source": [
    "import cv2"
   ]
  },
  {
   "cell_type": "markdown",
   "metadata": {},
   "source": [
    "### 보행자 검출기"
   ]
  },
  {
   "cell_type": "code",
   "execution_count": 3,
   "metadata": {},
   "outputs": [],
   "source": [
    "# 동영상 파일 또는 카메라 스트림을 불러옵니다.\n",
    "# '0'은 기본 카메라, 특정 파일을 사용하려면 파일 경로를 입력하세요.\n",
    "cap = cv2.VideoCapture('../data/492670841.mp4')\n",
    "\n",
    "# HOG 보행자 검출기를 초기화합니다.\n",
    "hog = cv2.HOGDescriptor()\n",
    "hog.setSVMDetector(cv2.HOGDescriptor_getDefaultPeopleDetector())"
   ]
  },
  {
   "cell_type": "code",
   "execution_count": 4,
   "metadata": {},
   "outputs": [],
   "source": [
    "while True:\n",
    "    # 동영상에서 프레임을 읽어옵니다.\n",
    "    ret, frame = cap.read()\n",
    "\n",
    "    # 오류 확인\n",
    "    if not ret:\n",
    "        break\n",
    "\n",
    "    # 보행자 검출\n",
    "    boxes, weights = hog.detectMultiScale(frame, winStride=(8, 8))\n",
    "\n",
    "    # 검출된 보행자 주변에 사각형을 그립니다.\n",
    "    for (x, y, w, h) in boxes:\n",
    "        cv2.rectangle(frame, (x, y), (x+w, y+h), (0, 255, 0), 2)\n",
    "\n",
    "    # 결과를 화면에 표시\n",
    "    cv2.imshow('Human Detection', frame)\n",
    "\n",
    "    # 'q'를 누르면 종료\n",
    "    if cv2.waitKey(1) & 0xFF == ord('q'):\n",
    "        break\n",
    "\n",
    "# 동영상 처리를 종료하고 모든 창을 닫습니다.\n",
    "cap.release()\n",
    "cv2.destroyAllWindows()"
   ]
  },
  {
   "cell_type": "markdown",
   "metadata": {},
   "source": [
    "- 실행결과 좋지 않음. 다시"
   ]
  },
  {
   "cell_type": "markdown",
   "metadata": {},
   "source": [
    "### 얼굴 검출"
   ]
  },
  {
   "cell_type": "code",
   "execution_count": 5,
   "metadata": {},
   "outputs": [],
   "source": [
    "# 동영상 파일 또는 카메라 스트림을 불러옵니다. '0'은 기본 카메라를 의미합니다.\n",
    "# 특정 파일을 사용하려면 'video.mp4'와 같이 파일 경로를 입력하세요.\n",
    "cap = cv2.VideoCapture('../data/492670841.mp4')\n",
    "\n",
    "# Haar Cascade 파일을 불러옵니다.\n",
    "face_cascade = cv2.CascadeClassifier(cv2.data.haarcascades + 'haarcascade_frontalface_default.xml')\n",
    "\n",
    "while True:\n",
    "    # 동영상에서 프레임을 읽어옵니다.\n",
    "    ret, frame = cap.read()\n",
    "\n",
    "    # 오류 확인\n",
    "    if not ret:\n",
    "        break\n",
    "\n",
    "    # 그레이스케일 이미지로 변환\n",
    "    gray = cv2.cvtColor(frame, cv2.COLOR_BGR2GRAY)\n",
    "\n",
    "    # 얼굴 인식\n",
    "    faces = face_cascade.detectMultiScale(gray, 1.1, 4)\n",
    "\n",
    "    # 인식된 얼굴 주변에 사각형을 그립니다.\n",
    "    for (x, y, w, h) in faces:\n",
    "        cv2.rectangle(frame, (x, y), (x+w, y+h), (255, 0, 0), 2)\n",
    "\n",
    "    # 결과를 화면에 표시\n",
    "    cv2.imshow('Face Detection', frame)\n",
    "\n",
    "    # 'q'를 누르면 종료\n",
    "    if cv2.waitKey(1) & 0xFF == ord('q'):\n",
    "        break\n",
    "\n",
    "# 동영상 처리를 종료하고 모든 창을 닫습니다.\n",
    "cap.release()\n",
    "cv2.destroyAllWindows()\n"
   ]
  },
  {
   "cell_type": "markdown",
   "metadata": {},
   "source": [
    "- 역시 인식상태 좋지 않음"
   ]
  }
 ],
 "metadata": {
  "kernelspec": {
   "display_name": "cvlib_env",
   "language": "python",
   "name": "python3"
  },
  "language_info": {
   "codemirror_mode": {
    "name": "ipython",
    "version": 3
   },
   "file_extension": ".py",
   "mimetype": "text/x-python",
   "name": "python",
   "nbconvert_exporter": "python",
   "pygments_lexer": "ipython3",
   "version": "3.10.10"
  }
 },
 "nbformat": 4,
 "nbformat_minor": 2
}
