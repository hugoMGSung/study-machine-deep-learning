{
 "cells": [
  {
   "cell_type": "markdown",
   "metadata": {},
   "source": [
    "#### 모듈 임포트"
   ]
  },
  {
   "cell_type": "code",
   "execution_count": 1,
   "metadata": {},
   "outputs": [],
   "source": [
    "import cv2\n",
    "import numpy as np"
   ]
  },
  {
   "cell_type": "code",
   "execution_count": 2,
   "metadata": {},
   "outputs": [
    {
     "name": "stdout",
     "output_type": "stream",
     "text": [
      "OpenCV 4.10.0\n"
     ]
    }
   ],
   "source": [
    "print(f'OpenCV {cv2.__version__}')"
   ]
  },
  {
   "cell_type": "code",
   "execution_count": 5,
   "metadata": {},
   "outputs": [],
   "source": [
    "src = cv2.imread('../images/singapore.jpg')"
   ]
  },
  {
   "cell_type": "code",
   "execution_count": null,
   "metadata": {},
   "outputs": [],
   "source": [
    "cv2.imshow(\"original\", src)\n",
    "## 아래의 두 코드가 빠지면 문제발생함!!\n",
    "cv2.waitKey(0)\n",
    "cv2.destroyAllWindows()"
   ]
  },
  {
   "cell_type": "markdown",
   "metadata": {},
   "source": [
    "#### 리스트 자료형\n",
    "\n",
    "- cv2.THRESH_OTSU 는 문제생김, 변경할 것!"
   ]
  },
  {
   "cell_type": "code",
   "execution_count": 28,
   "metadata": {},
   "outputs": [],
   "source": [
    "dsize = [cv2.THRESH_BINARY, cv2.THRESH_BINARY_INV, cv2.THRESH_TOZERO, cv2.THRESH_TOZERO_INV, cv2.THRESH_TRUNC]\n",
    "img = [None] * len(dsize)"
   ]
  },
  {
   "cell_type": "code",
   "execution_count": 29,
   "metadata": {},
   "outputs": [],
   "source": [
    "for i in range(len(dsize)):\n",
    "    ret, img[i] = cv2.threshold(src, 100, 255, dsize[i])"
   ]
  },
  {
   "cell_type": "code",
   "execution_count": 30,
   "metadata": {},
   "outputs": [],
   "source": [
    "for i in range(len(dsize)):\n",
    "    cv2.imshow(f\"img_{i}\", img[i])\n",
    "    \n",
    "## 아래의 두 코드가 빠지면 문제발생함!!\n",
    "cv2.waitKey(0)\n",
    "cv2.destroyAllWindows()"
   ]
  },
  {
   "cell_type": "markdown",
   "metadata": {},
   "source": [
    "#### 튜플 자료형"
   ]
  },
  {
   "cell_type": "code",
   "execution_count": 33,
   "metadata": {},
   "outputs": [],
   "source": [
    "center = [100, 100]\n",
    "red = (0, 0, 255)\n",
    "\n",
    "cv2.circle(src, tuple(center), 30, red, 3)\n",
    "\n",
    "cv2.imshow(f\"img_tuple\", src)\n",
    "    \n",
    "## 아래의 두 코드가 빠지면 문제발생함!!\n",
    "cv2.waitKey(0)\n",
    "cv2.destroyAllWindows()"
   ]
  },
  {
   "cell_type": "markdown",
   "metadata": {},
   "source": [
    "#### 사전 자료형"
   ]
  },
  {
   "cell_type": "code",
   "execution_count": 34,
   "metadata": {},
   "outputs": [],
   "source": [
    "Color_Code = {\n",
    "    \"yellow\" : [(20, 100, 100), (33, 255, 255)],\n",
    "    \"green\" : [(41, 100, 100), (70, 255, 255)],\n",
    "    \"blue\" : [(90, 100, 100), (150, 100, 255)],\n",
    "}\n",
    "\n",
    "result = cv2.inRange(src, Color_Code['yellow'][0], Color_Code['yellow'][1])"
   ]
  },
  {
   "cell_type": "code",
   "execution_count": 35,
   "metadata": {},
   "outputs": [],
   "source": [
    "cv2.imshow(f\"img_dict\", result)\n",
    "    \n",
    "## 아래의 두 코드가 빠지면 문제발생함!!\n",
    "cv2.waitKey(0)\n",
    "cv2.destroyAllWindows()"
   ]
  },
  {
   "cell_type": "markdown",
   "metadata": {},
   "source": [
    "#### 집합 자료형"
   ]
  },
  {
   "cell_type": "code",
   "execution_count": 36,
   "metadata": {},
   "outputs": [],
   "source": [
    "pt1 = [(50,0), (170,180), (210,250)]\n",
    "pt2 = [(50,0), (170,170), (210,250)]"
   ]
  },
  {
   "cell_type": "code",
   "execution_count": 37,
   "metadata": {},
   "outputs": [
    {
     "name": "stdout",
     "output_type": "stream",
     "text": [
      "{(210, 250), (50, 0), (170, 180), (170, 170)}\n",
      "{(50, 0), (210, 250)}\n",
      "{(170, 180)}\n"
     ]
    }
   ],
   "source": [
    "union = set(pt1) | set(pt2)\n",
    "intersection = set(pt1) & set(pt2)\n",
    "difference = set(pt1) - set(pt2)\n",
    "\n",
    "print(union)\n",
    "print(intersection)\n",
    "print(difference)"
   ]
  }
 ],
 "metadata": {
  "kernelspec": {
   "display_name": "Python 3",
   "language": "python",
   "name": "python3"
  },
  "language_info": {
   "codemirror_mode": {
    "name": "ipython",
    "version": 3
   },
   "file_extension": ".py",
   "mimetype": "text/x-python",
   "name": "python",
   "nbconvert_exporter": "python",
   "pygments_lexer": "ipython3",
   "version": "3.11.9"
  }
 },
 "nbformat": 4,
 "nbformat_minor": 2
}
