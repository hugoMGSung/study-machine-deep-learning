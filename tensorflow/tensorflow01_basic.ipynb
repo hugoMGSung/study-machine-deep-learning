{
 "cells": [
  {
   "cell_type": "markdown",
   "metadata": {},
   "source": [
    "### Tensorflow GPU 설치\n",
    "- CUDA 11.2 이하로 cuDNN은 8.1 이하로\n",
    "- Python 3.10 이하로 설정을 맞춰야 함\n",
    "- GPU는 PyTorch를 사용 추천"
   ]
  },
  {
   "cell_type": "code",
   "execution_count": 1,
   "metadata": {},
   "outputs": [],
   "source": [
    "import tensorflow as tf"
   ]
  },
  {
   "cell_type": "code",
   "execution_count": 2,
   "metadata": {},
   "outputs": [
    {
     "data": {
      "text/plain": [
       "'2.18.0'"
      ]
     },
     "execution_count": 2,
     "metadata": {},
     "output_type": "execute_result"
    }
   ],
   "source": [
    "tf.__version__"
   ]
  },
  {
   "cell_type": "code",
   "execution_count": 3,
   "metadata": {},
   "outputs": [
    {
     "data": {
      "text/plain": [
       "[name: \"/device:CPU:0\"\n",
       " device_type: \"CPU\"\n",
       " memory_limit: 268435456\n",
       " locality {\n",
       " }\n",
       " incarnation: 375174431628141105\n",
       " xla_global_id: -1]"
      ]
     },
     "execution_count": 3,
     "metadata": {},
     "output_type": "execute_result"
    }
   ],
   "source": [
    "from tensorflow.python.client import device_lib\n",
    "device_lib.list_local_devices()"
   ]
  },
  {
   "cell_type": "markdown",
   "metadata": {},
   "source": [
    "## 베이직 스타일\n",
    "\n",
    "### Define and Run 스타일\n",
    "\n",
    "- 두 부분으로 나누어 작성\n",
    "\t1. Define\n",
    "\t\t- **데이터가 흘러가는 플로우를 구성**하는 파트\n",
    "\t\t- 연산의 입력, 출력까지의 흐름을 설계하는 것(인공신경망 구성)\n",
    "\t\t- 학습전에 이미, 최적화, 평가, 등등 플로우도 구성\n",
    "\t\t- 파이썬으로 구성, API는 텐서플로우 사용\n",
    "\t\t- 연산은 없음\n",
    "\n",
    "\t2. Run\n",
    "\t\t- **실제 데이터 주입/학습 -> 평가/최적화 -> 예측**\n",
    "\t\t- 세션이 실제적으로 처리\n",
    "\t\t- python --> cypthon --> C++ 연동\n",
    "\t\t- 단계\n",
    "\t\t\t1. ~~세션 오픈~~(2.0에선 삭제)\n",
    "\t\t\t2. 데이터 주입\n",
    "\t\t\t3. C++ 연산 수행 -> GPU를 이용하여 연산도 가능\n",
    "\t\t\t4. 연산이 끝나면 파이썬에게 전달\n",
    "\t\t\t5. 결과 확인\n",
    "\t\t\t6. ~~세션 닫기~~(2.0에선 삭제)"
   ]
  },
  {
   "cell_type": "markdown",
   "metadata": {},
   "source": [
    "##### Tensorflow 2에서 1을 사용하고자 하면\n",
    "\n",
    "```python\n",
    "import tensorflow.compat.v1 as tf\n",
    "tf.disable_v2_behavior()\n",
    "\n",
    "AttributeError: module 'tensorflow.compat.v1' has no attribute 'contrib'\n",
    "```\n",
    "결국엔 Tensorflow 1을 다시 받아야 함. 쓰지 말 것!"
   ]
  },
  {
   "cell_type": "code",
   "execution_count": null,
   "metadata": {},
   "outputs": [],
   "source": [
    "### 실행하지 말것!\n",
    "in_a = tf.placeholder(dtype=tf.float32, shape=(2))\n",
    "in_b = tf.placeholder(dtype=tf.float32, shape=(2))\n",
    "\n",
    "def forward(x):\n",
    "  with tf.variable_scope(\"matmul\", reuse=tf.AUTO_REUSE):\n",
    "    W = tf.get_variable(\"W\", initializer=tf.ones(shape=(2,2)),\n",
    "                        regularizer=tf.contrib.layers.l2_regularizer(0.04))\n",
    "    b = tf.get_variable(\"b\", initializer=tf.zeros(shape=(2)))\n",
    "    return W * x + b\n",
    "\n",
    "out_a = forward(in_a)\n",
    "out_b = forward(in_b)\n",
    "\n",
    "reg_loss = tf.losses.get_regularization_loss(scope=\"matmul\")\n",
    "\n",
    "with tf.Session() as sess:\n",
    "  sess.run(tf.global_variables_initializer())\n",
    "  outs = sess.run([out_a, out_b, reg_loss],\n",
    "                feed_dict={in_a: [1, 0], in_b: [0, 1]})"
   ]
  },
  {
   "cell_type": "markdown",
   "metadata": {},
   "source": [
    "#### 다시 Tensorflow 2!"
   ]
  },
  {
   "cell_type": "code",
   "execution_count": 4,
   "metadata": {},
   "outputs": [
    {
     "data": {
      "text/plain": [
       "'2.18.0'"
      ]
     },
     "execution_count": 4,
     "metadata": {},
     "output_type": "execute_result"
    }
   ],
   "source": [
    "import tensorflow as tf\n",
    "tf.__version__"
   ]
  },
  {
   "cell_type": "markdown",
   "metadata": {},
   "source": [
    "##### 기본"
   ]
  },
  {
   "cell_type": "code",
   "execution_count": 5,
   "metadata": {},
   "outputs": [
    {
     "name": "stdout",
     "output_type": "stream",
     "text": [
      "tf.Tensor([0.61888814], shape=(1,), dtype=float32)\n"
     ]
    }
   ],
   "source": [
    "# 랜덤 수 생성 - 균일분포\n",
    "rand = tf.random.uniform([1], 0, 1)\n",
    "print(rand)"
   ]
  },
  {
   "cell_type": "code",
   "execution_count": 7,
   "metadata": {},
   "outputs": [
    {
     "name": "stdout",
     "output_type": "stream",
     "text": [
      "tf.Tensor([0.6398523  0.94302285 0.9544767  0.5285162 ], shape=(4,), dtype=float32)\n"
     ]
    }
   ],
   "source": [
    "# 랜덤 여러수 생성 - 균일분포\n",
    "rand = tf.random.uniform([4], 0, 1)\n",
    "print(rand)"
   ]
  },
  {
   "cell_type": "code",
   "execution_count": 8,
   "metadata": {},
   "outputs": [
    {
     "name": "stdout",
     "output_type": "stream",
     "text": [
      "tf.Tensor([-0.763175    0.24776313  1.6432008   0.7180435 ], shape=(4,), dtype=float32)\n"
     ]
    }
   ],
   "source": [
    "# 랜덤 여러수 생성 - 정규분포\n",
    "rand = tf.random.normal([4], 0, 1)\n",
    "print(rand)"
   ]
  },
  {
   "cell_type": "markdown",
   "metadata": {},
   "source": [
    "##### 뉴런 생성"
   ]
  },
  {
   "cell_type": "code",
   "execution_count": 9,
   "metadata": {},
   "outputs": [],
   "source": [
    "import math"
   ]
  },
  {
   "cell_type": "code",
   "execution_count": 10,
   "metadata": {},
   "outputs": [],
   "source": [
    "# 시그모이드 함수\n",
    "def sigmoid(x):\n",
    "    return 1 / (1 + math.exp(-x))"
   ]
  },
  {
   "cell_type": "code",
   "execution_count": 11,
   "metadata": {},
   "outputs": [
    {
     "data": {
      "text/plain": [
       "0.2592302376935775"
      ]
     },
     "execution_count": 11,
     "metadata": {},
     "output_type": "execute_result"
    }
   ],
   "source": [
    "## 뉴런 입출력 정의\n",
    "x, y = 1, 0\n",
    "w = tf.random.normal([1],0,1)\n",
    "sigmoid(x * w)"
   ]
  }
 ],
 "metadata": {
  "kernelspec": {
   "display_name": "tf_env",
   "language": "python",
   "name": "python3"
  },
  "language_info": {
   "codemirror_mode": {
    "name": "ipython",
    "version": 3
   },
   "file_extension": ".py",
   "mimetype": "text/x-python",
   "name": "python",
   "nbconvert_exporter": "python",
   "pygments_lexer": "ipython3",
   "version": "3.10.10"
  }
 },
 "nbformat": 4,
 "nbformat_minor": 2
}
